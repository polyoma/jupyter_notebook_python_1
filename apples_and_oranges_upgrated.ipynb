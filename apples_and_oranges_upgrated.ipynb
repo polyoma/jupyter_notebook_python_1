{
 "cells": [
  {
   "cell_type": "code",
   "execution_count": 82,
   "metadata": {},
   "outputs": [
    {
     "name": "stdout",
     "output_type": "stream",
     "text": [
      "Zadejte prosim, kolik jste koupili jablek:5\n"
     ]
    }
   ],
   "source": [
    "apples=input('Zadejte prosim, kolik jste koupili jablek:')"
   ]
  },
  {
   "cell_type": "code",
   "execution_count": 83,
   "metadata": {},
   "outputs": [
    {
     "name": "stdout",
     "output_type": "stream",
     "text": [
      "Zadejte prosim, kolik jste koupili pomerancu:5\n"
     ]
    }
   ],
   "source": [
    "oranges=input('Zadejte prosim, kolik jste koupili pomerancu:')"
   ]
  },
  {
   "cell_type": "code",
   "execution_count": 84,
   "metadata": {
    "collapsed": true
   },
   "outputs": [],
   "source": [
    "fruits=apples+oranges"
   ]
  },
  {
   "cell_type": "code",
   "execution_count": 85,
   "metadata": {},
   "outputs": [
    {
     "name": "stdout",
     "output_type": "stream",
     "text": [
      "celkem 10\n"
     ]
    }
   ],
   "source": [
    "print('celkem {}'.format(fruits))"
   ]
  },
  {
   "cell_type": "code",
   "execution_count": 86,
   "metadata": {},
   "outputs": [
    {
     "name": "stdout",
     "output_type": "stream",
     "text": [
      "Zadejte prosim, kolik jablek okousali mravenci:5\n"
     ]
    }
   ],
   "source": [
    "apples_ate=input('Zadejte prosim, kolik jablek okousali mravenci:')"
   ]
  },
  {
   "cell_type": "code",
   "execution_count": 87,
   "metadata": {},
   "outputs": [
    {
     "name": "stdout",
     "output_type": "stream",
     "text": [
      "Zadejte prosim, kolik pomerancu okousali mravenci:6\n"
     ]
    }
   ],
   "source": [
    "oranges_ate=input('Zadejte prosim, kolik pomerancu okousali mravenci:')"
   ]
  },
  {
   "cell_type": "code",
   "execution_count": 88,
   "metadata": {
    "collapsed": true
   },
   "outputs": [],
   "source": [
    "fruits_left=fruits-(apples_ate+oranges_ate)"
   ]
  },
  {
   "cell_type": "code",
   "execution_count": 89,
   "metadata": {},
   "outputs": [
    {
     "name": "stdout",
     "output_type": "stream",
     "text": [
      "zbyva -1\n"
     ]
    }
   ],
   "source": [
    "print('zbyva {}'.format(fruits_left))"
   ]
  },
  {
   "cell_type": "code",
   "execution_count": 90,
   "metadata": {
    "collapsed": true
   },
   "outputs": [],
   "source": [
    "result='Koupili jsme {} jablek a {} pomeracu. Mravenci okousali a znehodnotili {} jablek a {} pomerancu. Z celkoveho mnozstvi {} ovoce nam tedy zbylo {} kusu.'.format(apples, oranges,apples_ate,oranges_ate,fruits,fruits_left)"
   ]
  },
  {
   "cell_type": "code",
   "execution_count": 91,
   "metadata": {},
   "outputs": [
    {
     "name": "stdout",
     "output_type": "stream",
     "text": [
      "\u001b[32mKoupili jsme 5 jablek a 5 pomeracu. Mravenci okousali a znehodnotili 5 jablek a 6 pomerancu. Z celkoveho mnozstvi 10 ovoce nam tedy zbylo -1 kusu.\n"
     ]
    }
   ],
   "source": [
    "print('\\033[32m'+result)"
   ]
  },
  {
   "cell_type": "code",
   "execution_count": 92,
   "metadata": {},
   "outputs": [
    {
     "name": "stdout",
     "output_type": "stream",
     "text": [
      "\u001b[1mTo je nesmysl, mravenci nemaji tak radi ovoce, aby nam snedli i to co nemame!\n"
     ]
    }
   ],
   "source": [
    "if apples_ate > apples or oranges_ate > oranges: print ('\\033[1m'+'To je nesmysl, mravenci nemaji tak radi ovoce, aby nam snedli i to co nemame!')"
   ]
  },
  {
   "cell_type": "code",
   "execution_count": null,
   "metadata": {
    "collapsed": true
   },
   "outputs": [],
   "source": []
  }
 ],
 "metadata": {
  "kernelspec": {
   "display_name": "Python 2",
   "language": "python",
   "name": "python2"
  },
  "language_info": {
   "codemirror_mode": {
    "name": "ipython",
    "version": 2
   },
   "file_extension": ".py",
   "mimetype": "text/x-python",
   "name": "python",
   "nbconvert_exporter": "python",
   "pygments_lexer": "ipython2",
   "version": "2.7.14"
  }
 },
 "nbformat": 4,
 "nbformat_minor": 2
}
